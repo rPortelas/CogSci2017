{
 "cells": [
  {
   "cell_type": "code",
   "execution_count": 1,
   "metadata": {
    "collapsed": false
   },
   "outputs": [
    {
     "name": "stdout",
     "output_type": "stream",
     "text": [
      "human sounds ['yeo', 'uye', 'eyu', 'oey', 'eou', 'iuo']\n"
     ]
    }
   ],
   "source": [
    "import sys\n",
    "sys.path.append('../')\n",
    "\n",
    "from cogsci2017.environment.arm_diva_env import CogSci2017Environment\n",
    "from cogsci2017.learning.supervisor import Supervisor\n",
    "import matplotlib.pyplot as plt\n",
    "import numpy as np\n",
    "\n",
    "%matplotlib inline\n",
    "\n",
    "iterations = 50000\n",
    "\n",
    "environment = CogSci2017Environment(gui=False, audio=False)\n",
    "\n",
    "\n",
    "config = dict(m_mins=environment.conf.m_mins,\n",
    "             m_maxs=environment.conf.m_maxs,\n",
    "             s_mins=environment.conf.s_mins,\n",
    "             s_maxs=environment.conf.s_maxs)\n",
    "\n",
    "agent = Supervisor(config, model_babbling=\"random\", n_motor_babbling=1000, explo_noise=0.05)\n"
   ]
  },
  {
   "cell_type": "code",
   "execution_count": 2,
   "metadata": {
    "collapsed": false
   },
   "outputs": [
    {
     "name": "stdout",
     "output_type": "stream",
     "text": [
      "1\n"
     ]
    },
    {
     "name": "stderr",
     "output_type": "stream",
     "text": [
      "../cogsci2017/environment/diva/diva.py:169: RuntimeWarning: invalid value encountered in log2\n",
      "  formants = log2(transpose(res[self.s_used,:]))\n"
     ]
    },
    {
     "name": "stdout",
     "output_type": "stream",
     "text": [
      "best_vocal_errors [('yeo', 0.76033316294090836), ('uye', 0.88383493448180783), ('eyu', 0.87405343044720829), ('oey', 0.54692437619889778), ('eou', 0.81914475729311831), ('iuo', 1.0335692963292531)]\n",
      "best_vocal_errors [('yeo', 0.76033316294090836), ('uye', 0.78635702466134982), ('eyu', 0.87405343044720829), ('oey', 0.54692437619889778), ('eou', 0.81914475729311831), ('iuo', 0.64481659647636347)]\n",
      "best_vocal_errors [('yeo', 0.76033316294090836), ('uye', 0.78635702466134982), ('eyu', 0.69198538434256363), ('oey', 0.54692437619889778), ('eou', 0.81914475729311831), ('iuo', 0.64481659647636347)]\n",
      "best_vocal_errors [('yeo', 0.65365581679999407), ('uye', 0.78635702466134982), ('eyu', 0.69198538434256363), ('oey', 0.54692437619889778), ('eou', 0.81914475729311831), ('iuo', 0.64481659647636347)]\n",
      "best_vocal_errors [('yeo', 0.64975621907999526), ('uye', 0.78635702466134982), ('eyu', 0.69198538434256363), ('oey', 0.54692437619889778), ('eou', 0.67246475417993679), ('iuo', 0.64481659647636347)]\n",
      "best_vocal_errors [('yeo', 0.64975621907999526), ('uye', 0.70612291071373823), ('eyu', 0.69198538434256363), ('oey', 0.54692437619889778), ('eou', 0.67246475417993679), ('iuo', 0.64481659647636347)]\n",
      "best_vocal_errors [('yeo', 0.64975621907999526), ('uye', 0.70612291071373823), ('eyu', 0.553738393554563), ('oey', 0.52065665320490084), ('eou', 0.67246475417993679), ('iuo', 0.64481659647636347)]\n",
      "best_vocal_errors [('yeo', 0.64975621907999526), ('uye', 0.70612291071373823), ('eyu', 0.553738393554563), ('oey', 0.52065665320490084), ('eou', 0.67246475417993679), ('iuo', 0.64481659647636347)]\n",
      "best_vocal_errors [('yeo', 0.56636613584105777), ('uye', 0.70612291071373823), ('eyu', 0.553738393554563), ('oey', 0.52065665320490084), ('eou', 0.67246475417993679), ('iuo', 0.64481659647636347)]\n",
      "best_vocal_errors [('yeo', 0.56636613584105777), ('uye', 0.70612291071373823), ('eyu', 0.553738393554563), ('oey', 0.52065665320490084), ('eou', 0.67246475417993679), ('iuo', 0.64481659647636347)]\n",
      "best_vocal_errors [('yeo', 0.56636613584105777), ('uye', 0.68828372449137254), ('eyu', 0.553738393554563), ('oey', 0.52065665320490084), ('eou', 0.67246475417993679), ('iuo', 0.64481659647636347)]\n",
      "best_vocal_errors [('yeo', 0.56636613584105777), ('uye', 0.68828372449137254), ('eyu', 0.553738393554563), ('oey', 0.52065665320490084), ('eou', 0.67246475417993679), ('iuo', 0.64481659647636347)]\n",
      "best_vocal_errors [('yeo', 0.56636613584105777), ('uye', 0.68828372449137254), ('eyu', 0.553738393554563), ('oey', 0.52065665320490084), ('eou', 0.67246475417993679), ('iuo', 0.64481659647636347)]\n",
      "best_vocal_errors [('yeo', 0.56636613584105777), ('uye', 0.68828372449137254), ('eyu', 0.553738393554563), ('oey', 0.52065665320490084), ('eou', 0.67135442009251345), ('iuo', 0.64481659647636347)]\n",
      "best_vocal_errors [('yeo', 0.56636613584105777), ('uye', 0.68828372449137254), ('eyu', 0.553738393554563), ('oey', 0.52065665320490084), ('eou', 0.67135442009251345), ('iuo', 0.64481659647636347)]\n",
      "best_vocal_errors [('yeo', 0.56636613584105777), ('uye', 0.68828372449137254), ('eyu', 0.553738393554563), ('oey', 0.41554395276553269), ('eou', 0.67135442009251345), ('iuo', 0.4740271853264279)]\n",
      "best_vocal_errors [('yeo', 0.56636613584105777), ('uye', 0.68828372449137254), ('eyu', 0.553738393554563), ('oey', 0.41554395276553269), ('eou', 0.67135442009251345), ('iuo', 0.4740271853264279)]\n",
      "best_vocal_errors [('yeo', 0.56636613584105777), ('uye', 0.68828372449137254), ('eyu', 0.553738393554563), ('oey', 0.41554395276553269), ('eou', 0.67135442009251345), ('iuo', 0.4740271853264279)]\n",
      "best_vocal_errors [('yeo', 0.56636613584105777), ('uye', 0.68828372449137254), ('eyu', 0.51328063324219197), ('oey', 0.41554395276553269), ('eou', 0.67135442009251345), ('iuo', 0.4740271853264279)]\n",
      "best_vocal_errors [('yeo', 0.56636613584105777), ('uye', 0.68801667816442669), ('eyu', 0.51328063324219197), ('oey', 0.41554395276553269), ('eou', 0.67135442009251345), ('iuo', 0.4740271853264279)]\n",
      "best_vocal_errors [('yeo', 0.56636613584105777), ('uye', 0.68801667816442669), ('eyu', 0.51328063324219197), ('oey', 0.41554395276553269), ('eou', 0.67135442009251345), ('iuo', 0.4740271853264279)]\n",
      "best_vocal_errors [('yeo', 0.56636613584105777), ('uye', 0.68801667816442669), ('eyu', 0.51328063324219197), ('oey', 0.41554395276553269), ('eou', 0.67135442009251345), ('iuo', 0.4740271853264279)]\n",
      "best_vocal_errors [('yeo', 0.56636613584105777), ('uye', 0.68801667816442669), ('eyu', 0.51328063324219197), ('oey', 0.41554395276553269), ('eou', 0.67135442009251345), ('iuo', 0.4740271853264279)]\n",
      "best_vocal_errors [('yeo', 0.56636613584105777), ('uye', 0.68801667816442669), ('eyu', 0.51328063324219197), ('oey', 0.41554395276553269), ('eou', 0.67135442009251345), ('iuo', 0.4740271853264279)]\n",
      "best_vocal_errors [('yeo', 0.56636613584105777), ('uye', 0.67093799683697442), ('eyu', 0.51328063324219197), ('oey', 0.41554395276553269), ('eou', 0.61334568532481892), ('iuo', 0.4740271853264279)]\n",
      "best_vocal_errors [('yeo', 0.553772906347613), ('uye', 0.67093799683697442), ('eyu', 0.51328063324219197), ('oey', 0.41554395276553269), ('eou', 0.61334568532481892), ('iuo', 0.4740271853264279)]\n",
      "best_vocal_errors [('yeo', 0.553772906347613), ('uye', 0.67093799683697442), ('eyu', 0.51328063324219197), ('oey', 0.41554395276553269), ('eou', 0.61334568532481892), ('iuo', 0.4740271853264279)]\n",
      "best_vocal_errors [('yeo', 0.553772906347613), ('uye', 0.67093799683697442), ('eyu', 0.51328063324219197), ('oey', 0.41554395276553269), ('eou', 0.61334568532481892), ('iuo', 0.4740271853264279)]\n",
      "best_vocal_errors [('yeo', 0.553772906347613), ('uye', 0.66354909802633522), ('eyu', 0.51328063324219197), ('oey', 0.41554395276553269), ('eou', 0.61334568532481892), ('iuo', 0.4740271853264279)]\n",
      "best_vocal_errors [('yeo', 0.553772906347613), ('uye', 0.66354909802633522), ('eyu', 0.51328063324219197), ('oey', 0.41554395276553269), ('eou', 0.61334568532481892), ('iuo', 0.4740271853264279)]\n",
      "2\n",
      "best_vocal_errors [('yeo', 0.553772906347613), ('uye', 0.66354909802633522), ('eyu', 0.51328063324219197), ('oey', 0.41554395276553269), ('eou', 0.61334568532481892), ('iuo', 0.4740271853264279)]\n",
      "best_vocal_errors [('yeo', 0.553772906347613), ('uye', 0.66354909802633522), ('eyu', 0.51328063324219197), ('oey', 0.41554395276553269), ('eou', 0.61334568532481892), ('iuo', 0.4740271853264279)]\n",
      "best_vocal_errors [('yeo', 0.553772906347613), ('uye', 0.66354909802633522), ('eyu', 0.51328063324219197), ('oey', 0.41554395276553269), ('eou', 0.61334568532481892), ('iuo', 0.4740271853264279)]\n",
      "best_vocal_errors [('yeo', 0.553772906347613), ('uye', 0.66354909802633522), ('eyu', 0.51328063324219197), ('oey', 0.41554395276553269), ('eou', 0.61334568532481892), ('iuo', 0.4740271853264279)]\n",
      "best_vocal_errors [('yeo', 0.553772906347613), ('uye', 0.66354909802633522), ('eyu', 0.51328063324219197), ('oey', 0.41554395276553269), ('eou', 0.55306192488695505), ('iuo', 0.4740271853264279)]\n",
      "best_vocal_errors [('yeo', 0.553772906347613), ('uye', 0.66354909802633522), ('eyu', 0.51328063324219197), ('oey', 0.41554395276553269), ('eou', 0.55306192488695505), ('iuo', 0.4740271853264279)]\n",
      "best_vocal_errors [('yeo', 0.54299482356435358), ('uye', 0.50935863007042792), ('eyu', 0.51328063324219197), ('oey', 0.41554395276553269), ('eou', 0.55306192488695505), ('iuo', 0.4740271853264279)]\n",
      "best_vocal_errors [('yeo', 0.54299482356435358), ('uye', 0.50935863007042792), ('eyu', 0.51328063324219197), ('oey', 0.41554395276553269), ('eou', 0.55306192488695505), ('iuo', 0.4740271853264279)]\n",
      "best_vocal_errors [('yeo', 0.54299482356435358), ('uye', 0.50935863007042792), ('eyu', 0.51328063324219197), ('oey', 0.41554395276553269), ('eou', 0.55306192488695505), ('iuo', 0.4740271853264279)]\n",
      "best_vocal_errors [('yeo', 0.54299482356435358), ('uye', 0.50935863007042792), ('eyu', 0.51328063324219197), ('oey', 0.41554395276553269), ('eou', 0.55306192488695505), ('iuo', 0.4740271853264279)]\n",
      "best_vocal_errors [('yeo', 0.54299482356435358), ('uye', 0.50935863007042792), ('eyu', 0.51328063324219197), ('oey', 0.41554395276553269), ('eou', 0.55306192488695505), ('iuo', 0.4740271853264279)]\n",
      "best_vocal_errors [('yeo', 0.54299482356435358), ('uye', 0.50935863007042792), ('eyu', 0.51328063324219197), ('oey', 0.41554395276553269), ('eou', 0.55306192488695505), ('iuo', 0.4740271853264279)]\n",
      "best_vocal_errors [('yeo', 0.47728421578384828), ('uye', 0.50935863007042792), ('eyu', 0.51328063324219197), ('oey', 0.41554395276553269), ('eou', 0.55306192488695505), ('iuo', 0.4740271853264279)]\n",
      "best_vocal_errors [('yeo', 0.47728421578384828), ('uye', 0.50935863007042792), ('eyu', 0.51328063324219197), ('oey', 0.41554395276553269), ('eou', 0.55306192488695505), ('iuo', 0.4740271853264279)]\n",
      "best_vocal_errors [('yeo', 0.47728421578384828), ('uye', 0.50935863007042792), ('eyu', 0.51328063324219197), ('oey', 0.41554395276553269), ('eou', 0.55306192488695505), ('iuo', 0.4740271853264279)]\n",
      "best_vocal_errors [('yeo', 0.47728421578384828), ('uye', 0.50935863007042792), ('eyu', 0.51328063324219197), ('oey', 0.41554395276553269), ('eou', 0.55306192488695505), ('iuo', 0.4740271853264279)]\n",
      "best_vocal_errors [('yeo', 0.47728421578384828), ('uye', 0.50935863007042792), ('eyu', 0.51328063324219197), ('oey', 0.41554395276553269), ('eou', 0.55306192488695505), ('iuo', 0.4740271853264279)]\n",
      "best_vocal_errors [('yeo', 0.47728421578384828), ('uye', 0.50935863007042792), ('eyu', 0.51328063324219197), ('oey', 0.41554395276553269), ('eou', 0.55306192488695505), ('iuo', 0.4740271853264279)]\n",
      "best_vocal_errors [('yeo', 0.47728421578384828), ('uye', 0.50935863007042792), ('eyu', 0.51328063324219197), ('oey', 0.41554395276553269), ('eou', 0.55306192488695505), ('iuo', 0.4740271853264279)]\n",
      "best_vocal_errors [('yeo', 0.47728421578384828), ('uye', 0.50935863007042792), ('eyu', 0.51328063324219197), ('oey', 0.41554395276553269), ('eou', 0.55306192488695505), ('iuo', 0.4740271853264279)]\n",
      "best_vocal_errors [('yeo', 0.47728421578384828), ('uye', 0.50935863007042792), ('eyu', 0.51328063324219197), ('oey', 0.41554395276553269), ('eou', 0.55306192488695505), ('iuo', 0.4740271853264279)]\n",
      "***********Agent says yeo\n",
      "best_vocal_errors [('yeo', 0.34227777135028431), ('uye', 0.50935863007042792), ('eyu', 0.51328063324219197), ('oey', 0.41554395276553269), ('eou', 0.55306192488695505), ('iuo', 0.4740271853264279)]\n",
      "best_vocal_errors [('yeo', 0.34227777135028431), ('uye', 0.50935863007042792), ('eyu', 0.51328063324219197), ('oey', 0.41554395276553269), ('eou', 0.55306192488695505), ('iuo', 0.4740271853264279)]\n",
      "best_vocal_errors [('yeo', 0.34227777135028431), ('uye', 0.50935863007042792), ('eyu', 0.51328063324219197), ('oey', 0.41554395276553269), ('eou', 0.55306192488695505), ('iuo', 0.4740271853264279)]\n",
      "best_vocal_errors [('yeo', 0.34227777135028431), ('uye', 0.50935863007042792), ('eyu', 0.51328063324219197), ('oey', 0.41554395276553269), ('eou', 0.55046367466756729), ('iuo', 0.4740271853264279)]\n",
      "best_vocal_errors [('yeo', 0.34227777135028431), ('uye', 0.50935863007042792), ('eyu', 0.51328063324219197), ('oey', 0.41554395276553269), ('eou', 0.55046367466756729), ('iuo', 0.4740271853264279)]\n",
      "best_vocal_errors [('yeo', 0.34227777135028431), ('uye', 0.50935863007042792), ('eyu', 0.51328063324219197), ('oey', 0.41554395276553269), ('eou', 0.55046367466756729), ('iuo', 0.4740271853264279)]\n",
      "best_vocal_errors [('yeo', 0.34227777135028431), ('uye', 0.50935863007042792), ('eyu', 0.51328063324219197), ('oey', 0.41554395276553269), ('eou', 0.54240744812851993), ('iuo', 0.4740271853264279)]\n",
      "best_vocal_errors [('yeo', 0.34227777135028431), ('uye', 0.50935863007042792), ('eyu', 0.51328063324219197), ('oey', 0.41554395276553269), ('eou', 0.54240744812851993), ('iuo', 0.4740271853264279)]\n",
      "best_vocal_errors [('yeo', 0.34227777135028431), ('uye', 0.50935863007042792), ('eyu', 0.51328063324219197), ('oey', 0.41554395276553269), ('eou', 0.54240744812851993), ('iuo', 0.4740271853264279)]\n",
      "3\n",
      "best_vocal_errors [('yeo', 0.34227777135028431), ('uye', 0.50935863007042792), ('eyu', 0.51328063324219197), ('oey', 0.41554395276553269), ('eou', 0.54240744812851993), ('iuo', 0.4740271853264279)]\n",
      "best_vocal_errors [('yeo', 0.34227777135028431), ('uye', 0.50935863007042792), ('eyu', 0.51328063324219197), ('oey', 0.41554395276553269), ('eou', 0.54240744812851993), ('iuo', 0.4740271853264279)]\n",
      "best_vocal_errors [('yeo', 0.34227777135028431), ('uye', 0.50935863007042792), ('eyu', 0.51328063324219197), ('oey', 0.41554395276553269), ('eou', 0.54240744812851993), ('iuo', 0.4740271853264279)]\n",
      "best_vocal_errors [('yeo', 0.34227777135028431), ('uye', 0.50935863007042792), ('eyu', 0.51328063324219197), ('oey', 0.41554395276553269), ('eou', 0.54240744812851993), ('iuo', 0.4740271853264279)]\n",
      "best_vocal_errors [('yeo', 0.34227777135028431), ('uye', 0.50935863007042792), ('eyu', 0.51328063324219197), ('oey', 0.41554395276553269), ('eou', 0.54240744812851993), ('iuo', 0.4740271853264279)]\n",
      "best_vocal_errors [('yeo', 0.34227777135028431), ('uye', 0.50935863007042792), ('eyu', 0.51328063324219197), ('oey', 0.41554395276553269), ('eou', 0.54240744812851993), ('iuo', 0.4740271853264279)]\n",
      "best_vocal_errors [('yeo', 0.34227777135028431), ('uye', 0.50935863007042792), ('eyu', 0.51328063324219197), ('oey', 0.41554395276553269), ('eou', 0.54240744812851993), ('iuo', 0.4740271853264279)]\n",
      "best_vocal_errors [('yeo', 0.34227777135028431), ('uye', 0.50935863007042792), ('eyu', 0.51328063324219197), ('oey', 0.41554395276553269), ('eou', 0.54240744812851993), ('iuo', 0.4740271853264279)]\n",
      "best_vocal_errors [('yeo', 0.34227777135028431), ('uye', 0.50935863007042792), ('eyu', 0.51328063324219197), ('oey', 0.41554395276553269), ('eou', 0.54240744812851993), ('iuo', 0.4740271853264279)]\n",
      "best_vocal_errors [('yeo', 0.34227777135028431), ('uye', 0.50935863007042792), ('eyu', 0.51328063324219197), ('oey', 0.41554395276553269), ('eou', 0.54240744812851993), ('iuo', 0.4740271853264279)]\n",
      "best_vocal_errors [('yeo', 0.34227777135028431), ('uye', 0.50935863007042792), ('eyu', 0.48218126343235534), ('oey', 0.41554395276553269), ('eou', 0.50402351270548762), ('iuo', 0.4740271853264279)]\n",
      "best_vocal_errors [('yeo', 0.34227777135028431), ('uye', 0.50935863007042792), ('eyu', 0.48218126343235534), ('oey', 0.41554395276553269), ('eou', 0.50402351270548762), ('iuo', 0.4740271853264279)]\n",
      "best_vocal_errors [('yeo', 0.34227777135028431), ('uye', 0.50935863007042792), ('eyu', 0.48218126343235534), ('oey', 0.41554395276553269), ('eou', 0.50402351270548762), ('iuo', 0.4740271853264279)]\n",
      "best_vocal_errors [('yeo', 0.34227777135028431), ('uye', 0.50935863007042792), ('eyu', 0.48218126343235534), ('oey', 0.41554395276553269), ('eou', 0.50402351270548762), ('iuo', 0.4740271853264279)]\n",
      "best_vocal_errors [('yeo', 0.34227777135028431), ('uye', 0.50935863007042792), ('eyu', 0.48218126343235534), ('oey', 0.41554395276553269), ('eou', 0.50402351270548762), ('iuo', 0.4740271853264279)]\n",
      "best_vocal_errors [('yeo', 0.34227777135028431), ('uye', 0.50935863007042792), ('eyu', 0.48218126343235534), ('oey', 0.41554395276553269), ('eou', 0.50402351270548762), ('iuo', 0.4740271853264279)]\n",
      "best_vocal_errors [('yeo', 0.34227777135028431), ('uye', 0.50935863007042792), ('eyu', 0.48218126343235534), ('oey', 0.41554395276553269), ('eou', 0.50402351270548762), ('iuo', 0.4740271853264279)]\n",
      "best_vocal_errors [('yeo', 0.34227777135028431), ('uye', 0.45822730748361107), ('eyu', 0.48218126343235534), ('oey', 0.41554395276553269), ('eou', 0.50402351270548762), ('iuo', 0.4740271853264279)]\n",
      "best_vocal_errors [('yeo', 0.34227777135028431), ('uye', 0.45822730748361107), ('eyu', 0.48218126343235534), ('oey', 0.41554395276553269), ('eou', 0.50402351270548762), ('iuo', 0.4740271853264279)]\n",
      "best_vocal_errors [('yeo', 0.34227777135028431), ('uye', 0.45822730748361107), ('eyu', 0.48218126343235534), ('oey', 0.41554395276553269), ('eou', 0.50402351270548762), ('iuo', 0.4740271853264279)]\n",
      "best_vocal_errors [('yeo', 0.34227777135028431), ('uye', 0.45822730748361107), ('eyu', 0.48218126343235534), ('oey', 0.41554395276553269), ('eou', 0.50402351270548762), ('iuo', 0.4740271853264279)]\n",
      "best_vocal_errors [('yeo', 0.34227777135028431), ('uye', 0.45822730748361107), ('eyu', 0.48218126343235534), ('oey', 0.41554395276553269), ('eou', 0.50402351270548762), ('iuo', 0.4740271853264279)]\n",
      "best_vocal_errors [('yeo', 0.34227777135028431), ('uye', 0.45822730748361107), ('eyu', 0.48218126343235534), ('oey', 0.41554395276553269), ('eou', 0.50402351270548762), ('iuo', 0.4740271853264279)]\n",
      "best_vocal_errors [('yeo', 0.34227777135028431), ('uye', 0.45822730748361107), ('eyu', 0.48218126343235534), ('oey', 0.41554395276553269), ('eou', 0.50402351270548762), ('iuo', 0.4740271853264279)]\n",
      "best_vocal_errors [('yeo', 0.34227777135028431), ('uye', 0.45822730748361107), ('eyu', 0.48218126343235534), ('oey', 0.41554395276553269), ('eou', 0.50402351270548762), ('iuo', 0.4740271853264279)]\n",
      "best_vocal_errors [('yeo', 0.34227777135028431), ('uye', 0.45822730748361107), ('eyu', 0.48218126343235534), ('oey', 0.41554395276553269), ('eou', 0.50402351270548762), ('iuo', 0.4740271853264279)]\n",
      "best_vocal_errors [('yeo', 0.34227777135028431), ('uye', 0.45822730748361107), ('eyu', 0.48218126343235534), ('oey', 0.41554395276553269), ('eou', 0.50402351270548762), ('iuo', 0.4740271853264279)]\n",
      "best_vocal_errors [('yeo', 0.34227777135028431), ('uye', 0.45822730748361107), ('eyu', 0.48218126343235534), ('oey', 0.41554395276553269), ('eou', 0.50402351270548762), ('iuo', 0.4740271853264279)]\n",
      "best_vocal_errors [('yeo', 0.34227777135028431), ('uye', 0.45822730748361107), ('eyu', 0.48218126343235534), ('oey', 0.41554395276553269), ('eou', 0.50402351270548762), ('iuo', 0.4740271853264279)]\n",
      "best_vocal_errors [('yeo', 0.34227777135028431), ('uye', 0.45822730748361107), ('eyu', 0.48218126343235534), ('oey', 0.41554395276553269), ('eou', 0.50402351270548762), ('iuo', 0.4740271853264279)]\n"
     ]
    },
    {
     "ename": "NameError",
     "evalue": "name 'map_comp' is not defined",
     "output_type": "error",
     "traceback": [
      "\u001b[1;31m---------------------------------------------------------------------\u001b[0m",
      "\u001b[1;31mNameError\u001b[0m                           Traceback (most recent call last)",
      "\u001b[1;32m<ipython-input-2-56addd07ed3e>\u001b[0m in \u001b[0;36m<module>\u001b[1;34m()\u001b[0m\n\u001b[0;32m     25\u001b[0m             \u001b[0meval_results\u001b[0m\u001b[1;33m[\u001b[0m\u001b[0mregion\u001b[0m\u001b[1;33m]\u001b[0m\u001b[1;33m[\u001b[0m\u001b[0mi\u001b[0m\u001b[1;33m]\u001b[0m\u001b[1;33m[\u001b[0m\u001b[0mtoy\u001b[0m\u001b[1;33m]\u001b[0m\u001b[1;33m[\u001b[0m\u001b[1;34m\"toy_pos\"\u001b[0m\u001b[1;33m]\u001b[0m \u001b[1;33m=\u001b[0m \u001b[1;33m[\u001b[0m\u001b[0mgoal\u001b[0m\u001b[1;33m[\u001b[0m\u001b[1;36m0\u001b[0m\u001b[1;33m]\u001b[0m\u001b[1;33m,\u001b[0m \u001b[0mgoal\u001b[0m\u001b[1;33m[\u001b[0m\u001b[1;36m5\u001b[0m\u001b[1;33m]\u001b[0m\u001b[1;33m]\u001b[0m\u001b[1;33m\u001b[0m\u001b[0m\n\u001b[0;32m     26\u001b[0m \u001b[1;33m\u001b[0m\u001b[0m\n\u001b[1;32m---> 27\u001b[1;33m \u001b[0mmap_comp\u001b[0m \u001b[1;33m/=\u001b[0m \u001b[0mn_goals\u001b[0m\u001b[1;33m\u001b[0m\u001b[0m\n\u001b[0m\u001b[0;32m     28\u001b[0m \u001b[1;33m\u001b[0m\u001b[0m\n",
      "\u001b[1;31mNameError\u001b[0m: name 'map_comp' is not defined"
     ]
    }
   ],
   "source": [
    "n_goals = 10000\n",
    "\n",
    "eval_results = {}\n",
    "\n",
    "for region in [1, 2, 3]:  \n",
    "    print region\n",
    "    eval_results[region] = {}\n",
    "    for i in range(n_goals):\n",
    "        eval_results[region][i] = {}\n",
    "        environment.reset_toys(region=region)\n",
    "        for toy in [\"toy1\", \"toy2\", \"toy3\"]:\n",
    "            eval_results[region][i][toy] = {}\n",
    "            if toy == \"toy1\":\n",
    "                goal = [environment.current_toy1[0] * (1. - t) / 2. for t in [0., 0.3, 0.5, 0.8, 1.]] + \\\n",
    "                       [environment.current_toy1[1] * (1. - t) / 2. for t in [0., 0.3, 0.5, 0.8, 1.]]\n",
    "            elif toy == \"toy2\":\n",
    "                goal = [environment.current_toy2[0] * (1. - t) / 2. for t in [0., 0.3, 0.5, 0.8, 1.]] + \\\n",
    "                       [environment.current_toy2[1] * (1. - t) / 2. for t in [0., 0.3, 0.5, 0.8, 1.]]\n",
    "            elif toy == \"toy3\":\n",
    "                goal = [environment.current_toy3[0] * (1. - t) / 2. for t in [0., 0.3, 0.5, 0.8, 1.]] + \\\n",
    "                       [environment.current_toy3[1] * (1. - t) / 2. for t in [0., 0.3, 0.5, 0.8, 1.]]\n",
    "                    \n",
    "            m = agent.motor_babbling()\n",
    "            s = environment.update(m)\n",
    "            reached = s[30:40]\n",
    "            comp_error = np.linalg.norm(np.array(reached) - np.array(goal))\n",
    "            eval_results[region][i][toy][\"comp_error\"] = comp_error\n",
    "            eval_results[region][i][toy][\"toy_pos\"] = [goal[0], goal[5]]\n",
    "            \n"
   ]
  },
  {
   "cell_type": "code",
   "execution_count": 11,
   "metadata": {
    "collapsed": false
   },
   "outputs": [
    {
     "data": {
      "image/png": "[encoded data removed]",
      "text/plain": [
       "<matplotlib.figure.Figure at 0x7f9fad8413d0>"
      ]
     },
     "metadata": {},
     "output_type": "display_data"
    }
   ],
   "source": [
    "bins = 100\n",
    "map_comp = np.zeros((bins, bins))\n",
    "map_count = np.zeros((bins, bins))\n",
    "\n",
    "min_2d = [-1.,  -1.]\n",
    "max_2d = [1.,  1.]\n",
    "\n",
    "def real2map(x, y):\n",
    "    i = int((x - min_2d[0]) / (max_2d[0] - min_2d[0]) * 100.)\n",
    "    j = int((y - min_2d[0]) / (max_2d[0] - min_2d[0]) * 100.)\n",
    "    i = max(0, min(i, 99))\n",
    "    j = max(0, min(j, 99))\n",
    "    return i, j\n",
    "\n",
    "for region in [1, 2, 3]:\n",
    "    for gi in range(n_goals):\n",
    "        for toy in [\"toy1\", \"toy2\", \"toy3\"]:\n",
    "            x, y = eval_results[region][gi][toy][\"toy_pos\"]\n",
    "            i, j = real2map(x, y)\n",
    "            map_comp[i, j] += eval_results[region][gi][toy][\"comp_error\"]\n",
    "            map_count[i, j] += 1\n",
    "        \n",
    "for i in range(bins):\n",
    "    for j in range(bins):\n",
    "        n = map_count[i, j]\n",
    "        if n > 0:\n",
    "            map_comp[i, j] /= n\n",
    "        else:\n",
    "            map_comp[i, j] = -1\n",
    "            \n",
    "\n",
    "x_points = np.linspace(-1., 1., bins)\n",
    "y_points = np.linspace(-1., 1., bins)\n",
    "\n",
    "pcol = plt.pcolormesh(x_points, y_points, map_comp, vmin=0, vmax=3., linewidth=0, cmap=\"jet\")  \n",
    "pcol.set_rasterized(True)      \n",
    "pcol.set_edgecolor('face')\n",
    "\n",
    "pcol.cmap.set_under('white')\n",
    "\n",
    "cb = plt.colorbar()\n",
    "#cb.ax.set_yticklabels([\"Tool\", \"\", \"\", \"\", \"\", \"\", \"\", \"\", \"\", \"\", \"Hand\"], fontsize = 30)\n",
    "cb.solids.set_rasterized(True)\n",
    "cb.solids.set_edgecolor(\"face\")"
   ]
  },
  {
   "cell_type": "code",
   "execution_count": 12,
   "metadata": {
    "collapsed": false
   },
   "outputs": [
    {
     "name": "stderr",
     "output_type": "stream",
     "text": [
      "/home/sforesti/.local/lib/python2.7/site-packages/numpy/core/_methods.py:59: RuntimeWarning: Mean of empty slice.\n",
      "  warnings.warn(\"Mean of empty slice.\", RuntimeWarning)\n",
      "/home/sforesti/.local/lib/python2.7/site-packages/numpy/core/_methods.py:70: RuntimeWarning: invalid value encountered in double_scalars\n",
      "  ret = ret.dtype.type(ret / rcount)\n"
     ]
    },
    {
     "data": {
      "text/plain": [
       "array([[ nan,  nan,  nan, ...,  nan,  nan,  nan],\n",
       "       [ nan,  nan,  nan, ...,  nan,  nan,  nan],\n",
       "       [ nan,  nan,  nan, ...,  nan,  nan,  nan],\n",
       "       ..., \n",
       "       [ nan,  nan,  nan, ...,  nan,  nan,  nan],\n",
       "       [ nan,  nan,  nan, ...,  nan,  nan,  nan],\n",
       "       [ nan,  nan,  nan, ...,  nan,  nan,  nan]])"
      ]
     },
     "execution_count": 12,
     "metadata": {},
     "output_type": "execute_result"
    }
   ],
   "source": [
    "\n",
    "map_comp_mb_avg = np.zeros((bins, bins))\n",
    "\n",
    "# AVERAGE MOTOR BABBLING ERROR MAP\n",
    "for i in range(bins):\n",
    "    for j in range(bins):\n",
    "        d = np.sqrt((i-bins/2)*(i-bins/2) + (j-bins/2)*(j-bins/2))\n",
    "        idx_similar = [[k, l] for k in range(bins) for l in range(bins) if d - 1 < np.sqrt((k-bins/2)*(k-bins/2) + (l-bins/2)*(l-bins/2)) < d + 1]        \n",
    "        map_comp_mb_avg[i, j] = np.mean([map_comp[idx[0], idx[1]] for idx in idx_similar if map_comp[idx[0], idx[1]] > 0.])\n",
    "        \n",
    "map_comp_mb_avg"
   ]
  },
  {
   "cell_type": "code",
   "execution_count": 13,
   "metadata": {
    "collapsed": false
   },
   "outputs": [],
   "source": [
    "import cPickle\n",
    "\n",
    "log_dir = \"/home/sforesti/avakas/scratch/sforestier001/logs/CogSci2017/2017-01-17_19-32-17-EXPLO-0.5\"\n",
    "filename = log_dir + '/results/motor_babbling.pickle'\n",
    "with open(filename, 'wb') as f:\n",
    "    cPickle.dump(map_comp_mb_avg, f)\n",
    "f.close()\n",
    "\n",
    "\n",
    "filename = '../data/motor_babbling.pickle'\n",
    "with open(filename, 'wb') as f:\n",
    "    cPickle.dump(map_comp_mb_avg, f)\n",
    "f.close()"
   ]
  },
  {
   "cell_type": "code",
   "execution_count": null,
   "metadata": {
    "collapsed": true
   },
   "outputs": [],
   "source": []
  }
 ],
 "metadata": {
  "kernelspec": {
   "display_name": "Python 2",
   "language": "python",
   "name": "python2"
  },
  "language_info": {
   "codemirror_mode": {
    "name": "ipython",
    "version": 2
   },
   "file_extension": ".py",
   "mimetype": "text/x-python",
   "name": "python",
   "nbconvert_exporter": "python",
   "pygments_lexer": "ipython2",
   "version": "2.7.12"
  },
  "widgets": {
   "state": {},
   "version": "1.1.2"
  }
 },
 "nbformat": 4,
 "nbformat_minor": 0
}
