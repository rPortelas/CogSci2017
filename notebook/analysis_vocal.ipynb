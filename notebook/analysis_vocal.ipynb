{
 "cells": [
  {
   "cell_type": "code",
   "execution_count": 2,
   "metadata": {
    "collapsed": false
   },
   "outputs": [],
   "source": [
    "import cPickle\n",
    "\n",
    "# PARAMS\n",
    "log_dir = \"/home/sforesti/avakas/scratch/sforestier001/logs/CogSci2017/2017-01-15_18-30-39-TEST100\"\n",
    "\n",
    "\n",
    "filename = log_dir + '/results/vocal.pickle'\n",
    "with open(filename, 'r') as f:\n",
    "    data_vocal = cPickle.load(f)"
   ]
  },
  {
   "cell_type": "code",
   "execution_count": 3,
   "metadata": {
    "collapsed": false
   },
   "outputs": [
    {
     "data": {
      "text/plain": [
       "<matplotlib.legend.Legend at 0x7f87cfc234d0>"
      ]
     },
     "execution_count": 3,
     "metadata": {},
     "output_type": "execute_result"
    },
    {
     "data": {
      "image/png": "[encoded data removed]",
      "text/plain": [
       "<matplotlib.figure.Figure at 0x7f87cfc23750>"
      ]
     },
     "metadata": {},
     "output_type": "display_data"
    }
   ],
   "source": [
    "import matplotlib.pyplot as plt\n",
    "%matplotlib inline\n",
    "\n",
    "config_list = [\"RMB\"]\n",
    "n_iter = 100\n",
    "trial_list = range(1,n_iter + 1) \n",
    "config_name = \"RMB\"\n",
    "\n",
    "\n",
    "for trial in [3]:\n",
    "    human_sounds = data_vocal[config_name][trial][\"human_sounds\"]    \n",
    "    for hs in human_sounds:\n",
    "        plt.plot([data_vocal[config_name][trial][\"errors\"][i][hs] for i in range(len(data_vocal[config_name][trial][\"errors\"]))], label=hs)\n",
    "        \n",
    "plt.ylim([0, 1.5])       \n",
    "plt.xlim([0, 50000])  \n",
    "plt.plot((0, 50000), (0.4, 0.4), '-', lw=2)\n",
    "plt.legend()"
   ]
  },
  {
   "cell_type": "code",
   "execution_count": 49,
   "metadata": {
    "collapsed": false
   },
   "outputs": [],
   "source": [
    "ta = 20000\n",
    "\n",
    "import numpy as np\n",
    "\n",
    "def time_limit(error_evolution):\n",
    "    tl = 50000\n",
    "    while error_evolution[tl] < 0.4:\n",
    "        tl -= 1\n",
    "    return tl\n",
    "    \n",
    "def synchro(ee_list):\n",
    "    l = []\n",
    "    for ee in ee_list:\n",
    "        tl_ee = time_limit(ee)\n",
    "        if tl_ee < 50000-ta:\n",
    "            l += [ee[tl_ee:tl_ee+ta]]\n",
    "    return l\n",
    "            \n",
    "ee_list_s = []\n",
    "ee_list_ns = []\n",
    "\n",
    "for trial in trial_list:\n",
    "    human_sounds = data_vocal[config_name][trial][\"human_sounds\"]    \n",
    "    for hs in human_sounds[:3]:\n",
    "        ee_list_s += [[data_vocal[config_name][trial][\"errors\"][i][hs] for i in range(len(data_vocal[config_name][trial][\"errors\"]))]]\n",
    "        \n",
    "    for hs in human_sounds[3:]:\n",
    "        ee_list_ns += [[data_vocal[config_name][trial][\"errors\"][i][hs] for i in range(len(data_vocal[config_name][trial][\"errors\"]))]]\n",
    "        \n",
    "ee_s_avg = np.mean(synchro(ee_list_s), axis=0)\n",
    "ee_ns_avg = np.mean(synchro(ee_list_ns), axis=0)\n",
    "    \n"
   ]
  },
  {
   "cell_type": "code",
   "execution_count": 51,
   "metadata": {
    "collapsed": false
   },
   "outputs": [
    {
     "data": {
      "text/plain": [
       "<matplotlib.legend.Legend at 0x7fdb60e57c10>"
      ]
     },
     "execution_count": 51,
     "metadata": {},
     "output_type": "execute_result"
    },
    {
     "data": {
      "image/png": "[encoded data removed]",
      "text/plain": [
       "<matplotlib.figure.Figure at 0x7fdb7a7796d0>"
      ]
     },
     "metadata": {},
     "output_type": "display_data"
    }
   ],
   "source": [
    "plt.plot(ee_s_avg, label=\"toy names\", lw=2)\n",
    "plt.plot(ee_ns_avg, label=\"distractors\", lw=2)\n",
    "    \n",
    "plt.xlabel(\"t - t0.4\", fontsize=20)\n",
    "plt.ylabel(\"Vocal error\", fontsize=20)\n",
    "plt.ylim([0, 0.4])       \n",
    "plt.xlim([0, ta])  \n",
    "plt.plot((0, ta), (0.4, 0.4), '-', lw=2)\n",
    "plt.legend(loc=\"lower right\", fontsize=20)"
   ]
  },
  {
   "cell_type": "code",
   "execution_count": 57,
   "metadata": {
    "collapsed": false
   },
   "outputs": [
    {
     "name": "stdout",
     "output_type": "stream",
     "text": [
      "[ 0.04083985  0.02634049  0.02634049 ...,  0.04787319  0.04787319\n",
      "  0.04787319]\n"
     ]
    }
   ],
   "source": [
    "print np.std(synchro(ee_list_ns), axis=0)"
   ]
  },
  {
   "cell_type": "code",
   "execution_count": 59,
   "metadata": {
    "collapsed": false
   },
   "outputs": [
    {
     "name": "stdout",
     "output_type": "stream",
     "text": [
      "30\n",
      "21\n"
     ]
    }
   ],
   "source": [
    "print len(ee_list_ns)\n",
    "print len(synchro(ee_list_ns))"
   ]
  },
  {
   "cell_type": "code",
   "execution_count": null,
   "metadata": {
    "collapsed": true
   },
   "outputs": [],
   "source": []
  }
 ],
 "metadata": {
  "kernelspec": {
   "display_name": "Python 2",
   "language": "python",
   "name": "python2"
  },
  "language_info": {
   "codemirror_mode": {
    "name": "ipython",
    "version": 2
   },
   "file_extension": ".py",
   "mimetype": "text/x-python",
   "name": "python",
   "nbconvert_exporter": "python",
   "pygments_lexer": "ipython2",
   "version": "2.7.12"
  },
  "widgets": {
   "state": {},
   "version": "1.1.2"
  }
 },
 "nbformat": 4,
 "nbformat_minor": 2
}
