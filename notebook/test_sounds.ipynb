{
 "cells": [
  {
   "cell_type": "code",
   "execution_count": 11,
   "metadata": {
    "collapsed": false
   },
   "outputs": [],
   "source": [
    "import sys\n",
    "import numpy as np\n",
    "from explauto.utils import rand_bounds\n",
    "sys.path.append('../')\n",
    "\n",
    "from cogsci2017.environment.arm_diva_env import CogSci2017Environment\n",
    "%matplotlib inline\n",
    "import matplotlib.pyplot as plt\n",
    "\n",
    "env = CogSci2017Environment(audio = True)\n",
    "\n",
    "f1_o, f2_o = list(np.log2([500, 900]))\n",
    "f1_y, f2_y = list(np.log2([300, 1700]))\n",
    "f1_u, f2_u = list(np.log2([300, 800]))\n",
    "f1_e, f2_e = list(np.log2([600, 1700]))"
   ]
  },
  {
   "cell_type": "code",
   "execution_count": 38,
   "metadata": {
    "collapsed": false
   },
   "outputs": [
    {
     "data": {
      "text/plain": [
       "[<matplotlib.lines.Line2D at 0x7eff76a8fcd0>]"
      ]
     },
     "execution_count": 38,
     "metadata": {},
     "output_type": "execute_result"
    },
    {
     "data": {
      "image/png": "[encoded data removed]",
      "text/plain": [
       "<matplotlib.figure.Figure at 0x7eff76b68510>"
      ]
     },
     "metadata": {},
     "output_type": "display_data"
    }
   ],
   "source": [
    "# Vocal DMP\n",
    "for i in range(1):\n",
    "    m = env.motor_babbling()\n",
    "    m[28:42] = 0\n",
    "    m[42:] = m[21:28]\n",
    "    s_traj = env.diva.update(m[21:])\n",
    "    plt.plot(s_traj[0][0], s_traj[0][1], \"ok\")\n",
    "    plt.plot([f[0] for f in s_traj], [f[1] for f in s_traj])\n",
    "    #plt.plot([f[1] for f in s_traj], \"b\")\n",
    "    \n",
    "    \n",
    "plt.xlim([6., 9.5])\n",
    "plt.ylim([9.5, 11.5])\n",
    "\n",
    "plt.plot(f1_o, f2_o, \"or\")\n",
    "plt.plot(f1_y, f2_y, \"ob\")\n",
    "plt.plot(f1_u, f2_u, \"og\")\n",
    "plt.plot(f1_e, f2_e, \"om\")"
   ]
  },
  {
   "cell_type": "code",
   "execution_count": null,
   "metadata": {
    "collapsed": true
   },
   "outputs": [],
   "source": []
  },
  {
   "cell_type": "code",
   "execution_count": null,
   "metadata": {
    "collapsed": true
   },
   "outputs": [],
   "source": []
  }
 ],
 "metadata": {
  "kernelspec": {
   "display_name": "Python 2",
   "language": "python",
   "name": "python2"
  },
  "language_info": {
   "codemirror_mode": {
    "name": "ipython",
    "version": 2
   },
   "file_extension": ".py",
   "mimetype": "text/x-python",
   "name": "python",
   "nbconvert_exporter": "python",
   "pygments_lexer": "ipython2",
   "version": "2.7.12"
  },
  "widgets": {
   "state": {},
   "version": "1.1.2"
  }
 },
 "nbformat": 4,
 "nbformat_minor": 0
}
