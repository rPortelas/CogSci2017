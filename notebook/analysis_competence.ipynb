{
 "cells": [
  {
   "cell_type": "code",
   "execution_count": 1,
   "metadata": {
    "collapsed": true
   },
   "outputs": [],
   "source": [
    "import cPickle\n",
    "\n",
    "# PARAMS\n",
    "log_dir = \"/home/sforesti/avakas/scratch/sforestier001/logs/CogSci2017/2017-01-17_12-08-55-COGSCI\"\n",
    "\n",
    "\n",
    "filename = log_dir + '/results/competence.pickle'\n",
    "with open(filename, 'r') as f:\n",
    "    data_competence = cPickle.load(f)"
   ]
  },
  {
   "cell_type": "code",
   "execution_count": 2,
   "metadata": {
    "collapsed": false
   },
   "outputs": [],
   "source": [
    "import matplotlib.pyplot as plt\n",
    "import numpy as np\n",
    "%matplotlib inline\n",
    "\n",
    "config_list = [\"RMB\"]\n",
    "n_iter = 100\n",
    "n_goals = 1000\n",
    "trial_list = range(1,n_iter + 1) \n",
    "config_name = \"RMB\"\n",
    "\n",
    "\n",
    "data_gavd = {}\n",
    "\n",
    "for trial in trial_list:\n",
    "    data_gavd[trial] = {}\n",
    "    for region in [1, 2, 3]:\n",
    "        data_gavd[trial][region] = {}\n",
    "        for toy in [\"toy1\", \"toy2\", \"toy3\"]:\n",
    "            data_gavd[trial][region][toy] = {}\n",
    "            data_gavd[trial][region][toy][\"comp_error\"] = np.mean([data_competence[config_name][trial][\"eval_results\"][region][i][toy][\"comp_error\"] for i in range(n_goals)])\n",
    "            data_gavd[trial][region][toy][\"arm_dist\"] = np.mean([data_competence[config_name][trial][\"eval_results\"][region][i][toy][\"arm_dist\"] for i in range(n_goals)])\n",
    "            data_gavd[trial][region][toy][\"diva_dist\"] = np.mean([data_competence[config_name][trial][\"eval_results\"][region][i][toy][\"diva_dist\"] for i in range(n_goals)])"
   ]
  },
  {
   "cell_type": "code",
   "execution_count": 9,
   "metadata": {
    "collapsed": false,
    "scrolled": true
   },
   "outputs": [
    {
     "data": {
      "text/plain": [
       "{1: {'arm_dist': 0.27202058397949697,\n",
       "  'comp_error': 0.30960549459667552,\n",
       "  'diva_dist': inf},\n",
       " 2: {'arm_dist': 0.46009236195021347,\n",
       "  'comp_error': 0.72234074203546283,\n",
       "  'diva_dist': inf},\n",
       " 3: {'arm_dist': 0.65821960736571117,\n",
       "  'comp_error': 0.98775296064881146,\n",
       "  'diva_dist': inf}}"
      ]
     },
     "execution_count": 9,
     "metadata": {},
     "output_type": "execute_result"
    }
   ],
   "source": [
    "data_avg = {}\n",
    "for region in [1, 2, 3]:\n",
    "    data_avg[region] = {}\n",
    "    data_avg[region][\"comp_error\"] = np.mean([data_gavd[trial][region][toy][\"comp_error\"] for toy in [\"toy1\", \"toy2\", \"toy3\"] for trial in trial_list])\n",
    "    data_avg[region][\"arm_dist\"] = np.mean([data_gavd[trial][region][toy][\"arm_dist\"] for toy in [\"toy1\", \"toy2\", \"toy3\"] for trial in trial_list])\n",
    "    data_avg[region][\"diva_dist\"] = np.mean([data_gavd[trial][region][toy][\"diva_dist\"] for toy in [\"toy1\", \"toy2\", \"toy3\"] for trial in trial_list])\n",
    "    \n",
    "data_avg"
   ]
  },
  {
   "cell_type": "code",
   "execution_count": null,
   "metadata": {
    "collapsed": true
   },
   "outputs": [],
   "source": []
  }
 ],
 "metadata": {
  "kernelspec": {
   "display_name": "Python 2",
   "language": "python",
   "name": "python2"
  },
  "language_info": {
   "codemirror_mode": {
    "name": "ipython",
    "version": 2
   },
   "file_extension": ".py",
   "mimetype": "text/x-python",
   "name": "python",
   "nbconvert_exporter": "python",
   "pygments_lexer": "ipython2",
   "version": "2.7.12"
  },
  "widgets": {
   "state": {},
   "version": "1.1.2"
  }
 },
 "nbformat": 4,
 "nbformat_minor": 0
}
