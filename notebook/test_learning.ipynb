{
 "cells": [
  {
   "cell_type": "code",
   "execution_count": 4,
   "metadata": {
    "collapsed": false
   },
   "outputs": [
    {
     "name": "stdout",
     "output_type": "stream",
     "text": [
      "human sounds ['eou', 'eyu', 'yeo', 'uye', 'iuo', 'oey']\n"
     ]
    }
   ],
   "source": [
    "import sys\n",
    "sys.path.append('../')\n",
    "\n",
    "from cogsci2017.environment.arm_diva_env import CogSci2017Environment\n",
    "from cogsci2017.learning.supervisor import Supervisor\n",
    "import matplotlib.pyplot as plt\n",
    "import numpy as np\n",
    "\n",
    "%matplotlib inline\n",
    "\n",
    "iterations = 30000\n",
    "\n",
    "environment = CogSci2017Environment(gui=False, audio=False)\n",
    "\n",
    "\n",
    "config = dict(m_mins=environment.conf.m_mins,\n",
    "             m_maxs=environment.conf.m_maxs,\n",
    "             s_mins=environment.conf.s_mins,\n",
    "             s_maxs=environment.conf.s_maxs)\n",
    "\n",
    "agent = Supervisor(config, model_babbling=\"random\", n_motor_babbling=1000, explo_noise=0.05)\n",
    "\n"
   ]
  },
  {
   "cell_type": "code",
   "execution_count": null,
   "metadata": {
    "collapsed": false,
    "scrolled": true
   },
   "outputs": [
    {
     "name": "stdout",
     "output_type": "stream",
     "text": [
      "Iteration 0\n",
      "best_vocal_errors [('eou', 0.70925875178580111), ('eyu', 0.71117887168807681), ('yeo', 0.64667576597725873), ('uye', 0.902256864907103), ('iuo', 1.0588182071744632), ('oey', 0.6059176823765049)]\n",
      "\n",
      "----------------\n",
      "Agent Statistics\n",
      "----------------\n",
      "\n",
      "#Iterations: 1000\n",
      "\n",
      "# Chosen module mod1 : 0\n",
      "# Chosen module mod2 : 0\n",
      "# Chosen module mod3 : 0\n",
      "# Chosen module mod4 : 0\n",
      "# Chosen module mod5 : 0\n",
      "# Chosen module mod6 : 0\n",
      "# Chosen module mod10 : 0\n",
      "# Chosen module mod11 : 0\n",
      "# Chosen module mod12 : 0\n",
      "# Chosen module mod13 : 0\n",
      "\n",
      "Competence progress of mod1  :  0.0\n",
      "Competence progress of mod2  :  0.0\n",
      "Competence progress of mod3  :  0.0\n",
      "Competence progress of mod4  :  0.0\n",
      "Competence progress of mod5  :  0.0\n",
      "Competence progress of mod6  :  0.0\n",
      "Competence progress of mod10 :  0.0\n",
      "Competence progress of mod11 :  0.0\n",
      "Competence progress of mod12 :  0.0\n",
      "Competence progress of mod13 :  0.0\n",
      "\n",
      "Prediction progress of mod1  :  0.0\n",
      "Prediction progress of mod2  :  0.0\n",
      "Prediction progress of mod3  :  0.0\n",
      "Prediction progress of mod4  :  0.0\n",
      "Prediction progress of mod5  :  0.0\n",
      "Prediction progress of mod6  :  0.0\n",
      "Prediction progress of mod10 :  0.0\n",
      "Prediction progress of mod11 :  0.0\n",
      "Prediction progress of mod12 :  0.0\n",
      "Prediction progress of mod13 :  0.0\n",
      "#Arm trials 0\n",
      "#Vocal trials 0\n",
      "\n"
     ]
    }
   ],
   "source": [
    "for i in range(iterations):\n",
    "    if i % (iterations/10) == 0:\n",
    "        print \"Iteration\", i\n",
    "    context = environment.get_current_context()\n",
    "    m = agent.produce(context)\n",
    "    s = environment.update(m)\n",
    "    agent.perceive(s)\n",
    "#    s_traj = environment.diva_traj\n",
    "#    if s_traj is not None:\n",
    "#        if i < 100:\n",
    "#            plt.plot([-f[1] for f in s_traj], [-f[0] for f in s_traj], color=\"r\", alpha=0.2)\n",
    "#        else:\n",
    "#            plt.plot([-f[1] for f in s_traj], [-f[0] for f in s_traj], color=\"b\", alpha=0.2)\n",
    "#            \n",
    "#plt.xlim([-11.25,-9.5])\n",
    "#plt.ylim([-9.25, -7.5])"
   ]
  },
  {
   "cell_type": "code",
   "execution_count": 4,
   "metadata": {
    "collapsed": false
   },
   "outputs": [
    {
     "name": "stdout",
     "output_type": "stream",
     "text": [
      "error oiy 0.787985083408\n"
     ]
    },
    {
     "data": {
      "text/plain": [
       "(-9.25, -7.5)"
      ]
     },
     "execution_count": 4,
     "metadata": {},
     "output_type": "execute_result"
    },
    {
     "data": {
      "image/png": "[encoded data removed]",
      "text/plain": [
       "<matplotlib.figure.Figure at 0x7fe902d75590>"
      ]
     },
     "metadata": {},
     "output_type": "display_data"
    }
   ],
   "source": [
    "#for hs in human_sounds:\n",
    "hs = \"oiy\"\n",
    "agent.modules[\"mod13\"].sm.sigma_expl = np.array([0.1]*28)\n",
    "#print agent.modules[\"mod13\"].sm.sigma_expl\n",
    "m = agent.modules[\"mod13\"].inverse(np.array(environment.human_sounds_traj_std[hs]), explore=True) \n",
    "#print m\n",
    "s = environment.update([0.]*21 + list(m))\n",
    "s_traj = environment.diva_traj\n",
    "#print s_traj\n",
    "error = np.linalg.norm(np.array(environment.human_sounds_traj[hs]) - np.array([f[0] for f in s_traj[[0, 12, 24, 37, 49]]] + [f[1] for f in s_traj[[0, 12, 24, 37, 49]]]))\n",
    "print \"error\", hs, error\n",
    "\n",
    "\n",
    "plt.plot([-f[1] for f in s_traj], [-f[0] for f in s_traj], color=\"b\", alpha=0.2)    \n",
    "plt.plot(- np.array(environment.human_sounds_traj[hs][5:]), -np.array(environment.human_sounds_traj[hs][:5]), lw=2)\n",
    "\n",
    "plt.xlim([-11.25,-9.5])\n",
    "plt.ylim([-9.25, -7.5])"
   ]
  },
  {
   "cell_type": "code",
   "execution_count": 3,
   "metadata": {
    "collapsed": false
   },
   "outputs": [],
   "source": [
    "\n",
    "for i in range(100):\n",
    "    context = environment.get_current_context()[:4]\n",
    "    s_goal = [2. * np.random.random() - 1. for _ in range(10)]\n",
    "\n",
    "    m = agent.modules[\"mod10\"].inverse(np.array(context + s_goal), explore=True)\n",
    "    m = [0.] * 21 + list(m)\n",
    "    s = environment.update(m)\n",
    "    if environment.produced_sound:\n",
    "        print environment.produced_sound\n",
    "    agent.perceive(s)"
   ]
  },
  {
   "cell_type": "code",
   "execution_count": 3,
   "metadata": {
    "collapsed": false
   },
   "outputs": [
    {
     "name": "stdout",
     "output_type": "stream",
     "text": [
      "[]\n"
     ]
    }
   ],
   "source": [
    "print agent.modules[\"mod10\"].sm.model.imodel.fmodel.dataset.data[1]"
   ]
  },
  {
   "cell_type": "code",
   "execution_count": 3,
   "metadata": {
    "collapsed": false
   },
   "outputs": [
    {
     "name": "stdout",
     "output_type": "stream",
     "text": [
      "\n",
      "region 1\n",
      "[0.016729916774849474, 0.011570363769717658, -0.99640005054696501, -0.0093089259173685934, -0.9632986964975625, -0.23509882223928605, -0.059157591036650796, 0.011432153668449626, -0.8108398599647739, 0.47994354661050065]\n",
      "[-1.99280010109393, -0.018617851834737187, 0.0]\n",
      "\n",
      "toy1\n",
      "goal 0 [-0.99640005054696501, -0.69748003538287551, -0.49820002527348251, -0.19928001010939295, -0.0, -0.0093089259173685934, -0.0065162481421580151, -0.0046544629586842967, -0.0018617851834737183, -0.0]\n",
      "context [0.016729916774849474, 0.011570363769717658, -0.99640005054696501, -0.0093089259173685934, -0.9632986964975625, -0.23509882223928605, -0.059157591036650796, 0.011432153668449626, -0.8108398599647739, 0.47994354661050065]\n",
      "arm dist 1.38684805606\n",
      "diva_dist inf\n",
      "s [ 0.01672992  0.01157036 -0.99640005 -0.00930893 -0.9632987  -0.23509882\n",
      " -0.05915759  0.01143215 -0.81083986  0.47994355 -0.01474219 -0.17402559\n",
      " -0.12120461 -0.008477   -0.07120605  0.48866397  0.1672987   0.17333589\n",
      " -0.01331745 -0.09086768  0.01672992  0.01672992  0.01672992 -0.008477\n",
      " -0.07120605  0.01157036  0.01157036  0.01157036 -0.01331745 -0.09086768\n",
      " -0.99640005 -0.99640005 -0.99640005 -0.99640005 -0.99640005 -0.00930893\n",
      " -0.00930893 -0.00930893 -0.00930893 -0.00930893 -0.9632987  -0.9632987\n",
      " -0.9632987  -0.9632987  -0.9632987  -0.23509882 -0.23509882 -0.23509882\n",
      " -0.23509882 -0.23509882 -0.05915759 -0.05915759 -0.05915759 -0.05915759\n",
      " -0.05915759  0.01143215  0.01143215  0.01143215  0.01143215  0.01143215\n",
      "  0.14385619  0.30482024  0.46578428  0.09730149 -0.27118131  0.85328781\n",
      "  0.2085345  -0.43621881 -0.52118131 -0.60614381 -0.81083986 -0.81083986\n",
      " -0.81083986 -0.81083986 -0.81083986  0.47994355  0.47994355  0.47994355\n",
      "  0.47994355  0.47994355]\n",
      "reached [-0.99640005 -0.99640005 -0.99640005 -0.99640005 -0.99640005 -0.00930893\n",
      " -0.00930893 -0.00930893 -0.00930893 -0.00930893] error 1.40212033696\n"
     ]
    }
   ],
   "source": [
    "# TEST EVAL\n",
    "n_goals = 1\n",
    "\n",
    "eval_results = {}\n",
    "\n",
    "for region in [1]:  \n",
    "    print\n",
    "    print \"region\", region\n",
    "    eval_results[region] = {}\n",
    "    for i in range(n_goals):\n",
    "        eval_results[region][i] = {}\n",
    "        #environment.reset_toys()\n",
    "        print environment.get_current_context()\n",
    "        print environment.current_toy1\n",
    "        for toy in [\"toy1\"]:\n",
    "            print\n",
    "            print toy\n",
    "            eval_results[region][i][toy] = {}\n",
    "                                    \n",
    "            if toy == \"toy1\":\n",
    "                goal = [environment.current_toy1[0] * (1. - t) / 2. for t in [0., 0.3, 0.5, 0.8, 1.]] + \\\n",
    "                       [environment.current_toy1[1] * (1. - t) / 2. for t in [0., 0.3, 0.5, 0.8, 1.]]\n",
    "                arm_mid = \"mod3\"\n",
    "                diva_mid = \"mod10\"\n",
    "            elif toy == \"toy2\":\n",
    "                goal = [environment.current_toy2[0] * (1. - t) / 2. for t in [0., 0.3, 0.5, 0.8, 1.]] + \\\n",
    "                       [environment.current_toy2[1] * (1. - t) / 2. for t in [0., 0.3, 0.5, 0.8, 1.]]\n",
    "                arm_mid = \"mod4\"\n",
    "                diva_mid = \"mod11\"\n",
    "            elif toy == \"toy3\":\n",
    "                goal = [environment.current_toy3[0] * (1. - t) / 2. for t in [0., 0.3, 0.5, 0.8, 1.]] + \\\n",
    "                       [environment.current_toy3[1] * (1. - t) / 2. for t in [0., 0.3, 0.5, 0.8, 1.]]\n",
    "                arm_mid = \"mod5\"\n",
    "                diva_mid = \"mod12\"\n",
    "                \n",
    "            print \"goal\", i, goal\n",
    "            print \"context\", environment.get_current_context()\n",
    "            context = list(agent.modules[arm_mid].get_c(environment.get_current_context()))\n",
    "            dists, _ = agent.modules[arm_mid].sm.model.imodel.fmodel.dataset.nn_y(context+goal)\n",
    "            arm_dist = dists[0]\n",
    "            \n",
    "            if len(agent.modules[diva_mid].sm.model.imodel.fmodel.dataset) > 0:\n",
    "                context = list(agent.modules[diva_mid].get_c(environment.get_current_context()))\n",
    "                dists, _ = agent.modules[diva_mid].sm.model.imodel.fmodel.dataset.nn_y(context+goal)\n",
    "                diva_dist = dists[0]\n",
    "            else:\n",
    "                diva_dist = np.inf\n",
    "            \n",
    "            print \"arm dist\", arm_dist\n",
    "            print \"diva_dist\", diva_dist\n",
    "            \n",
    "            if arm_dist < diva_dist:\n",
    "                m = agent.modules[arm_mid].inverse(np.array(context + goal), explore=False)            \n",
    "                m = list(m) + [0.]*28\n",
    "            else:\n",
    "                m = agent.modules[diva_mid].inverse(np.array(context + goal), explore=False)            \n",
    "                m = [0.]*21 + list(m)\n",
    "                \n",
    "            s = environment.update(m)\n",
    "            print \"s\", s\n",
    "            \n",
    "            if toy == \"toy1\":\n",
    "                reached = s[30:40]\n",
    "            elif toy == \"toy2\":\n",
    "                reached = s[40:50]\n",
    "            elif toy == \"toy3\":\n",
    "                reached = s[50:60]\n",
    "                \n",
    "            comp_error = np.linalg.norm(np.array(reached) - np.array(goal))\n",
    "            print \"reached\", reached, \"error\", comp_error\n",
    "            \n",
    "            eval_results[region][i][toy][\"comp_error\"] = comp_error\n",
    "            eval_results[region][i][toy][\"arm_dist\"] = arm_dist\n",
    "            eval_results[region][i][toy][\"diva_dist\"] = diva_dist"
   ]
  },
  {
   "cell_type": "code",
   "execution_count": 16,
   "metadata": {
    "collapsed": false
   },
   "outputs": [
    {
     "name": "stdout",
     "output_type": "stream",
     "text": [
      "[-0.25, 0.0, 0.73993542908577359, -0.1445236240803919, 0.87577977025799236, -0.28002212906596963, -0.18408930766778922, 0.053627922743935533, 0.8536357265884991, -0.5145681760294718]\n",
      "[1.4798708581715472, -0.28904724816078381, 0.0]\n"
     ]
    }
   ],
   "source": [
    "print environment.get_current_context()\n",
    "print environment.current_toy1"
   ]
  },
  {
   "cell_type": "code",
   "execution_count": null,
   "metadata": {
    "collapsed": true
   },
   "outputs": [],
   "source": []
  }
 ],
 "metadata": {
  "kernelspec": {
   "display_name": "Python 2",
   "language": "python",
   "name": "python2"
  },
  "language_info": {
   "codemirror_mode": {
    "name": "ipython",
    "version": 2
   },
   "file_extension": ".py",
   "mimetype": "text/x-python",
   "name": "python",
   "nbconvert_exporter": "python",
   "pygments_lexer": "ipython2",
   "version": "2.7.12"
  },
  "widgets": {
   "state": {},
   "version": "1.1.2"
  }
 },
 "nbformat": 4,
 "nbformat_minor": 0
}
