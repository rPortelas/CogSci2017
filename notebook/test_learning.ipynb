{
 "cells": [
  {
   "cell_type": "code",
   "execution_count": null,
   "metadata": {
    "collapsed": false
   },
   "outputs": [
    {
     "name": "stdout",
     "output_type": "stream",
     "text": [
      "human sounds ['eyu', 'yeo', 'eou', 'oey', 'iuo', 'uye']\n"
     ]
    }
   ],
   "source": [
    "import sys\n",
    "sys.path.append('../')\n",
    "\n",
    "from cogsci2017.environment.arm_diva_env import CogSci2017Environment\n",
    "from cogsci2017.learning.supervisor import Supervisor\n",
    "import matplotlib.pyplot as plt\n",
    "import numpy as np\n",
    "\n",
    "%matplotlib inline\n",
    "\n",
    "iterations = 20000\n",
    "\n",
    "environment = CogSci2017Environment(gui=False, audio=False)\n",
    "\n",
    "\n",
    "config = dict(m_mins=environment.conf.m_mins,\n",
    "             m_maxs=environment.conf.m_maxs,\n",
    "             s_mins=environment.conf.s_mins,\n",
    "             s_maxs=environment.conf.s_maxs)\n",
    "\n",
    "agent = Supervisor(config, model_babbling=\"random\", n_motor_babbling=1000, explo_noise=0.05)\n",
    "\n"
   ]
  },
  {
   "cell_type": "code",
   "execution_count": null,
   "metadata": {
    "collapsed": false,
    "scrolled": true
   },
   "outputs": [
    {
     "name": "stdout",
     "output_type": "stream",
     "text": [
      "Iteration 0\n"
     ]
    },
    {
     "name": "stderr",
     "output_type": "stream",
     "text": [
      "../cogsci2017/environment/diva/diva.py:169: RuntimeWarning: invalid value encountered in log2\n",
      "  formants = log2(transpose(res[self.s_used,:]))\n"
     ]
    },
    {
     "name": "stdout",
     "output_type": "stream",
     "text": [
      "best_vocal_errors [('eyu', 0.7914286378592349), ('yeo', 0.66799796914409915), ('eou', 0.85950200917234376), ('oey', 0.65970665216919111), ('iuo', 0.6466484098175983), ('uye', 1.0324073116464991)]\n",
      "\n",
      "----------------\n",
      "Agent Statistics\n",
      "----------------\n",
      "\n",
      "#Iterations: 1000\n",
      "\n",
      "# Chosen module mod1 : 0\n",
      "# Chosen module mod2 : 0\n",
      "# Chosen module mod3 : 0\n",
      "# Chosen module mod4 : 0\n",
      "# Chosen module mod5 : 0\n",
      "# Chosen module mod6 : 0\n",
      "# Chosen module mod10 : 0\n",
      "# Chosen module mod11 : 0\n",
      "# Chosen module mod12 : 0\n",
      "# Chosen module mod13 : 0\n",
      "\n",
      "Competence progress of mod1  :  0.0\n",
      "Competence progress of mod2  :  0.0\n",
      "Competence progress of mod3  :  0.0\n",
      "Competence progress of mod4  :  0.0\n",
      "Competence progress of mod5  :  0.0\n",
      "Competence progress of mod6  :  0.0\n",
      "Competence progress of mod10 :  0.0\n",
      "Competence progress of mod11 :  0.0\n",
      "Competence progress of mod12 :  0.0\n",
      "Competence progress of mod13 :  0.0\n",
      "\n",
      "Prediction progress of mod1  :  0.0\n",
      "Prediction progress of mod2  :  0.0\n",
      "Prediction progress of mod3  :  0.0\n",
      "Prediction progress of mod4  :  0.0\n",
      "Prediction progress of mod5  :  0.0\n",
      "Prediction progress of mod6  :  0.0\n",
      "Prediction progress of mod10 :  0.0\n",
      "Prediction progress of mod11 :  0.0\n",
      "Prediction progress of mod12 :  0.0\n",
      "Prediction progress of mod13 :  0.0\n",
      "#Arm trials 0\n",
      "#Vocal trials 0\n",
      "\n",
      "best_vocal_errors [('eyu', 0.50008999356891426), ('yeo', 0.46024854034249724), ('eou', 0.85950200917234376), ('oey', 0.65970665216919111), ('iuo', 0.6466484098175983), ('uye', 0.87445100282307731)]\n",
      "\n",
      "----------------\n",
      "Agent Statistics\n",
      "----------------\n",
      "\n",
      "#Iterations: 2000\n",
      "\n",
      "# Chosen module mod1 : 112\n",
      "# Chosen module mod2 : 90\n",
      "# Chosen module mod3 : 116\n",
      "# Chosen module mod4 : 89\n",
      "# Chosen module mod5 : 101\n",
      "# Chosen module mod6 : 96\n",
      "# Chosen module mod10 : 109\n",
      "# Chosen module mod11 : 105\n",
      "# Chosen module mod12 : 97\n",
      "# Chosen module mod13 : 85\n",
      "\n",
      "Competence progress of mod1  :  0.0170120093115\n",
      "Competence progress of mod2  :  0.000923334164509\n",
      "Competence progress of mod3  :  -0.00175669938833\n",
      "Competence progress of mod4  :  0.00220964614569\n",
      "Competence progress of mod5  :  -0.00832803826143\n",
      "Competence progress of mod6  :  -0.0036575160392\n",
      "Competence progress of mod10 :  0.0\n",
      "Competence progress of mod11 :  0.0\n",
      "Competence progress of mod12 :  0.0\n",
      "Competence progress of mod13 :  0.0236675797469\n",
      "\n",
      "Prediction progress of mod1  :  0.0129255626533\n",
      "Prediction progress of mod2  :  -0.000379848827348\n",
      "Prediction progress of mod3  :  0.00287155055423\n",
      "Prediction progress of mod4  :  0.0013658525182\n",
      "Prediction progress of mod5  :  0.00168867240109\n",
      "Prediction progress of mod6  :  -0.0172807503354\n",
      "Prediction progress of mod10 :  0.0\n",
      "Prediction progress of mod11 :  0.0\n",
      "Prediction progress of mod12 :  0.0\n",
      "Prediction progress of mod13 :  0.0299181048237\n",
      "#Arm trials 604\n",
      "#Vocal trials 396\n",
      "\n",
      "Iteration 2000\n",
      "***********Agent says yeo\n",
      "best_vocal_errors [('eyu', 0.42241002436204389), ('yeo', 0.39760540938513755), ('eou', 0.85950200917234376), ('oey', 0.58648027878720077), ('iuo', 0.6466484098175983), ('uye', 0.85926017016268808)]\n",
      "\n",
      "----------------\n",
      "Agent Statistics\n",
      "----------------\n",
      "\n",
      "#Iterations: 3000\n",
      "\n",
      "# Chosen module mod1 : 210\n",
      "# Chosen module mod2 : 184\n",
      "# Chosen module mod3 : 229\n",
      "# Chosen module mod4 : 189\n",
      "# Chosen module mod5 : 199\n",
      "# Chosen module mod6 : 188\n",
      "# Chosen module mod10 : 204\n",
      "# Chosen module mod11 : 205\n",
      "# Chosen module mod12 : 204\n",
      "# Chosen module mod13 : 188\n",
      "\n",
      "Competence progress of mod1  :  0.028970302821\n",
      "Competence progress of mod2  :  -0.000828840785785\n",
      "Competence progress of mod3  :  -0.00296073482038\n",
      "Competence progress of mod4  :  -0.00616391192515\n",
      "Competence progress of mod5  :  -3.85882790406e-05\n",
      "Competence progress of mod6  :  -0.010546694372\n",
      "Competence progress of mod10 :  0.0\n",
      "Competence progress of mod11 :  -0.00490034996572\n",
      "Competence progress of mod12 :  0.0\n",
      "Competence progress of mod13 :  0.0433207486023\n",
      "\n",
      "Prediction progress of mod1  :  0.0225127111356\n",
      "Prediction progress of mod2  :  -0.00180664137036\n",
      "Prediction progress of mod3  :  -0.00293270980569\n",
      "Prediction progress of mod4  :  -0.00144197001296\n",
      "Prediction progress of mod5  :  9.20506824749e-05\n",
      "Prediction progress of mod6  :  -0.021403589412\n",
      "Prediction progress of mod10 :  0.0\n",
      "Prediction progress of mod11 :  0.0\n",
      "Prediction progress of mod12 :  0.0\n",
      "Prediction progress of mod13 :  0.0494434173475\n",
      "#Arm trials 1199\n",
      "#Vocal trials 801\n",
      "\n"
     ]
    }
   ],
   "source": [
    "for i in range(iterations):\n",
    "    if i % (iterations/10) == 0:\n",
    "        print \"Iteration\", i\n",
    "    context = environment.get_current_context()\n",
    "    m = agent.produce(context)\n",
    "    s = environment.update(m)\n",
    "    agent.perceive(s)\n",
    "#    s_traj = environment.diva_traj\n",
    "#    if s_traj is not None:\n",
    "#        if i < 100:\n",
    "#            plt.plot([-f[1] for f in s_traj], [-f[0] for f in s_traj], color=\"r\", alpha=0.2)\n",
    "#        else:\n",
    "#            plt.plot([-f[1] for f in s_traj], [-f[0] for f in s_traj], color=\"b\", alpha=0.2)\n",
    "#            \n",
    "#plt.xlim([-11.25,-9.5])\n",
    "#plt.ylim([-9.25, -7.5])"
   ]
  },
  {
   "cell_type": "code",
   "execution_count": 7,
   "metadata": {
    "collapsed": false
   },
   "outputs": [
    {
     "name": "stdout",
     "output_type": "stream",
     "text": [
      "error eou 0.43532031468\n"
     ]
    },
    {
     "data": {
      "text/plain": [
       "(-9.25, -7.5)"
      ]
     },
     "execution_count": 7,
     "metadata": {},
     "output_type": "execute_result"
    },
    {
     "data": {
      "image/png": "[encoded data removed]",
      "text/plain": [
       "<matplotlib.figure.Figure at 0x7f12857f9610>"
      ]
     },
     "metadata": {},
     "output_type": "display_data"
    }
   ],
   "source": [
    "#for hs in human_sounds:\n",
    "hs = \"eou\"\n",
    "agent.modules[\"mod13\"].sm.sigma_expl = np.array([0.1]*28)\n",
    "#print agent.modules[\"mod13\"].sm.sigma_expl\n",
    "m = agent.modules[\"mod13\"].inverse(np.array(environment.human_sounds_traj_std[hs]), explore=True) \n",
    "#print m\n",
    "s = environment.update([0.]*21 + list(m))\n",
    "s_traj = environment.diva_traj\n",
    "#print s_traj\n",
    "error = np.linalg.norm(np.array(environment.human_sounds_traj[hs]) - np.array([f[0] for f in s_traj[[0, 12, 24, 37, 49]]] + [f[1] for f in s_traj[[0, 12, 24, 37, 49]]]))\n",
    "print \"error\", hs, error\n",
    "\n",
    "\n",
    "plt.plot([-f[1] for f in s_traj], [-f[0] for f in s_traj], color=\"b\", alpha=0.2)    \n",
    "plt.plot(- np.array(environment.human_sounds_traj[hs][5:]), -np.array(environment.human_sounds_traj[hs][:5]), lw=2)\n",
    "\n",
    "plt.xlim([-11.25,-9.5])\n",
    "plt.ylim([-9.25, -7.5])"
   ]
  },
  {
   "cell_type": "code",
   "execution_count": 3,
   "metadata": {
    "collapsed": false
   },
   "outputs": [],
   "source": [
    "\n",
    "for i in range(100):\n",
    "    context = environment.get_current_context()[:4]\n",
    "    s_goal = [2. * np.random.random() - 1. for _ in range(10)]\n",
    "\n",
    "    m = agent.modules[\"mod10\"].inverse(np.array(context + s_goal), explore=True)\n",
    "    m = [0.] * 21 + list(m)\n",
    "    s = environment.update(m)\n",
    "    if environment.produced_sound:\n",
    "        print environment.produced_sound\n",
    "    agent.perceive(s)"
   ]
  },
  {
   "cell_type": "code",
   "execution_count": 3,
   "metadata": {
    "collapsed": false
   },
   "outputs": [
    {
     "name": "stdout",
     "output_type": "stream",
     "text": [
      "[]\n"
     ]
    }
   ],
   "source": [
    "print agent.modules[\"mod10\"].sm.model.imodel.fmodel.dataset.data[1]"
   ]
  },
  {
   "cell_type": "code",
   "execution_count": null,
   "metadata": {
    "collapsed": false
   },
   "outputs": [],
   "source": [
    "# TEST EVAL\n",
    "n_goals = 10\n",
    "\n",
    "eval_results = {}\n",
    "\n",
    "for region in [1]:  \n",
    "    print\n",
    "    print \"region\", region\n",
    "    eval_results[region] = {}\n",
    "    for i in range(n_goals):\n",
    "        eval_results[region][i] = {}\n",
    "        environment.reset_toys(region=region)\n",
    "        print environment.get_current_context()\n",
    "        print environment.current_toy1\n",
    "        for toy in [\"toy1\"]:\n",
    "            print\n",
    "            print toy\n",
    "            eval_results[region][i][toy] = {}\n",
    "                                    \n",
    "            if toy == \"toy1\":\n",
    "                goal = [environment.current_toy1[0] * (1. - t) / 2. for t in [0., 0.3, 0.5, 0.8, 1.]] + \\\n",
    "                       [environment.current_toy1[1] * (1. - t) / 2. for t in [0., 0.3, 0.5, 0.8, 1.]]\n",
    "                arm_mid = \"mod3\"\n",
    "                diva_mid = \"mod10\"\n",
    "            elif toy == \"toy2\":\n",
    "                goal = [environment.current_toy2[0] * (1. - t) / 2. for t in [0., 0.3, 0.5, 0.8, 1.]] + \\\n",
    "                       [environment.current_toy2[1] * (1. - t) / 2. for t in [0., 0.3, 0.5, 0.8, 1.]]\n",
    "                arm_mid = \"mod4\"\n",
    "                diva_mid = \"mod11\"\n",
    "            elif toy == \"toy3\":\n",
    "                goal = [environment.current_toy3[0] * (1. - t) / 2. for t in [0., 0.3, 0.5, 0.8, 1.]] + \\\n",
    "                       [environment.current_toy3[1] * (1. - t) / 2. for t in [0., 0.3, 0.5, 0.8, 1.]]\n",
    "                arm_mid = \"mod5\"\n",
    "                diva_mid = \"mod12\"\n",
    "                \n",
    "            print \"goal\", i, goal\n",
    "            print \"context\", environment.get_current_context()\n",
    "            context = list(agent.modules[arm_mid].get_c(environment.get_current_context()))\n",
    "            dists, _ = agent.modules[arm_mid].sm.model.imodel.fmodel.dataset.nn_y(context+goal)\n",
    "            arm_dist = dists[0]\n",
    "            \n",
    "            if len(agent.modules[diva_mid].sm.model.imodel.fmodel.dataset) > 0:\n",
    "                context = list(agent.modules[diva_mid].get_c(environment.get_current_context()))\n",
    "                dists, _ = agent.modules[diva_mid].sm.model.imodel.fmodel.dataset.nn_y(context+goal)\n",
    "                diva_dist = dists[0]\n",
    "            else:\n",
    "                diva_dist = np.inf\n",
    "            \n",
    "            print \"arm dist\", arm_dist\n",
    "            print \"diva_dist\", diva_dist\n",
    "            \n",
    "            if arm_dist < diva_dist:\n",
    "                m = agent.modules[arm_mid].inverse(np.array(context + goal), explore=False)            \n",
    "                m = list(m) + [0.]*28\n",
    "            else:\n",
    "                m = agent.modules[diva_mid].inverse(np.array(context + goal), explore=False)            \n",
    "                m = [0.]*21 + list(m)\n",
    "                \n",
    "            s = environment.update(m)\n",
    "            print \"s\", s\n",
    "            \n",
    "            if toy == \"toy1\":\n",
    "                reached = s[30:40]\n",
    "            elif toy == \"toy2\":\n",
    "                reached = s[40:50]\n",
    "            elif toy == \"toy3\":\n",
    "                reached = s[50:60]\n",
    "                \n",
    "            comp_error = np.linalg.norm(np.array(reached) - np.array(goal))\n",
    "            print \"reached\", reached, \"error\", comp_error\n",
    "            \n",
    "            eval_results[region][i][toy][\"comp_error\"] = comp_error\n",
    "            eval_results[region][i][toy][\"arm_dist\"] = arm_dist\n",
    "            eval_results[region][i][toy][\"diva_dist\"] = diva_dist"
   ]
  },
  {
   "cell_type": "code",
   "execution_count": 9,
   "metadata": {
    "collapsed": false
   },
   "outputs": [
    {
     "name": "stdout",
     "output_type": "stream",
     "text": [
      "[-0.14030649370389509, 0.39847807190945012, -0.095221924028563887, -0.86094403748415826, -0.41798371206660895, 0.22018634937351131, -0.75333652398061124, -0.041728003704527172, 0.5990449422025557, 0.9461233108750631]\n",
      "[-0.19044384805712777, -1.7218880749683165, 0.0]\n"
     ]
    }
   ],
   "source": [
    "print environment.get_current_context()\n",
    "print environment.current_toy1"
   ]
  },
  {
   "cell_type": "code",
   "execution_count": null,
   "metadata": {
    "collapsed": true
   },
   "outputs": [],
   "source": []
  }
 ],
 "metadata": {
  "kernelspec": {
   "display_name": "Python 2",
   "language": "python",
   "name": "python2"
  },
  "language_info": {
   "codemirror_mode": {
    "name": "ipython",
    "version": 2
   },
   "file_extension": ".py",
   "mimetype": "text/x-python",
   "name": "python",
   "nbconvert_exporter": "python",
   "pygments_lexer": "ipython2",
   "version": "2.7.12"
  },
  "widgets": {
   "state": {},
   "version": "1.1.2"
  }
 },
 "nbformat": 4,
 "nbformat_minor": 0
}
