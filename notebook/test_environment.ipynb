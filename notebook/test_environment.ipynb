{
 "cells": [
  {
   "cell_type": "code",
   "execution_count": 1,
   "metadata": {
    "collapsed": false
   },
   "outputs": [
    {
     "name": "stdout",
     "output_type": "stream",
     "text": [
      "human sounds ['oey', 'eou', 'iuo', 'eyu', 'yeo', 'uye']\n"
     ]
    }
   ],
   "source": [
    "import sys\n",
    "sys.path.append('../')\n",
    "\n",
    "from cogsci2017.environment.arm_diva_env import CogSci2017Environment\n",
    "from cogsci2017.learning.supervisor import Supervisor\n",
    "import matplotlib.pyplot as plt\n",
    "import numpy as np\n",
    "\n",
    "%matplotlib inline\n",
    "\n",
    "\n",
    "environment = CogSci2017Environment(gui=False, audio=False)\n"
   ]
  },
  {
   "cell_type": "code",
   "execution_count": 71,
   "metadata": {
    "collapsed": false
   },
   "outputs": [
    {
     "data": {
      "image/png": "[encoded data removed]",
      "text/plain": [
       "<matplotlib.figure.Figure at 0x7f7ed95a9bd0>"
      ]
     },
     "metadata": {},
     "output_type": "display_data"
    },
    {
     "name": "stdout",
     "output_type": "stream",
     "text": [
      "\n"
     ]
    }
   ],
   "source": [
    "\n",
    "plt.rc('text', usetex=True)\n",
    "plt.rc('font', family='serif')\n",
    "\n",
    "\n",
    "\n",
    "ax = plt.subplot()\n",
    "fig = plt.gcf()\n",
    "ax.set_aspect('equal')\n",
    "fig.set_size_inches(6., 6., forward=True)\n",
    "\n",
    "plt.xlabel(\"X\", fontsize = 20)\n",
    "plt.ylabel(\"Y\", fontsize = 20)\n",
    "plt.xlim([-2., 2.])\n",
    "plt.ylim([-2., 2.])\n",
    "\n",
    "plt.xticks([-2, -1, 0, 1, 2], [\"$-1$\", \"$-0.5$\", \"$0$\", \"$0.5$\", \"$1$\"], fontsize = 16)\n",
    "plt.yticks([-2, -1, 0, 1, 2], [\"$-1$\", \"$-0.5$\", \"$0$\", \"$0.5$\", \"$1$\"], fontsize = 16)\n",
    "\n",
    "environment.set_caregiver([0, 1.8])\n",
    "plt.text(0.6, 1.7, \"Caregiver\", fontsize = 16)\n",
    "\n",
    "environment.set_tool([-1., 0.2], 0.8)\n",
    "plt.text(-1.45, -0.2, \"Stick\", fontsize = 16)\n",
    "\n",
    "environment.set_toys([1.1, -1.3], [-1.1, 1.3], [0.9, -0.9])\n",
    "plt.text(0.2, -1.35, \"Toys\", fontsize = 16)\n",
    "plt.text(-0.9, 0.9, \"Toy\", fontsize = 16)\n",
    "\n",
    "plt.text(0.4, 0., \"Arm\", fontsize = 16)\n",
    "\n",
    "m = [-0.05]*21 + [0.]*28\n",
    "environment.update(m)\n",
    "\n",
    "\n",
    "environment.plot_step(ax, 10, clean=False)\n",
    "\n",
    "plt.savefig('../figs/fig_env.pdf', format='pdf', bbox_inches='tight')"
   ]
  },
  {
   "cell_type": "code",
   "execution_count": 12,
   "metadata": {
    "collapsed": false
   },
   "outputs": [
    {
     "name": "stdout",
     "output_type": "stream",
     "text": [
      "[-0.5, 0.0, 0.5, 0.0]\n"
     ]
    }
   ],
   "source": [
    "print environment.current_tool"
   ]
  },
  {
   "cell_type": "code",
   "execution_count": null,
   "metadata": {
    "collapsed": true
   },
   "outputs": [],
   "source": []
  }
 ],
 "metadata": {
  "kernelspec": {
   "display_name": "Python 2",
   "language": "python",
   "name": "python2"
  },
  "language_info": {
   "codemirror_mode": {
    "name": "ipython",
    "version": 2
   },
   "file_extension": ".py",
   "mimetype": "text/x-python",
   "name": "python",
   "nbconvert_exporter": "python",
   "pygments_lexer": "ipython2",
   "version": "2.7.12"
  },
  "widgets": {
   "state": {},
   "version": "1.1.2"
  }
 },
 "nbformat": 4,
 "nbformat_minor": 0
}
